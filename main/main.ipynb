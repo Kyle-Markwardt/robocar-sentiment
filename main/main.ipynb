{
 "cells": [
  {
   "cell_type": "markdown",
   "metadata": {},
   "source": [
    "# Goals\n",
    "1. Get NYT or Bloomberg articles on \"autonomous vehicles\" (alt: cars/vehicles driverless/autonomous)\n",
    "    a. How do I know if the sentiment rating is accurate?\n",
    "    b. Bonus - NYT AND Bloomberg\n",
    "2. Create model for sentiment analysis of articles (Strong or weak positive or negative) \n",
    "3. Using datetimes and sentiment rank, create time series model of artcle sentiment and stock price impact (mutliple companies - which are most/least impacted)\n",
    "4. Do this again for one specific company (named in articles and stock price (Waymo))\n",
    "5. Create sentiment model to use on twitter data for the same \n",
    "\n",
    "LSTM - kerris model nn for training twitter dataset"
   ]
  },
  {
   "cell_type": "code",
   "execution_count": 15,
   "metadata": {},
   "outputs": [],
   "source": [
    "# Dependencies\n",
    "import requests\n",
    "from pprint import pprint\n",
    "from dotenv import load_dotenv\n",
    "import os\n",
    "import json\n"
   ]
  },
  {
   "cell_type": "code",
   "execution_count": 13,
   "metadata": {},
   "outputs": [
    {
     "data": {
      "text/plain": [
       "True"
      ]
     },
     "execution_count": 13,
     "metadata": {},
     "output_type": "execute_result"
    }
   ],
   "source": [
    "load_dotenv(\"/Users/kmarkwardt/robocar-sentiment/main/.env\")\n",
    "api_key = os.getenv(\"api_key\")\n"
   ]
  },
  {
   "cell_type": "code",
   "execution_count": null,
   "metadata": {},
   "outputs": [],
   "source": [
    "url = \"https://api.nytimes.com/svc/search/v2/articlesearch.json?\"\n",
    "\n",
    "query_1 = \"Autonomous Vehicles\"\n",
    "query_2 = \"Driverless Vehciles\"\n",
    "news_desks = [\"Automobiles\",\"Business\",\"Cars\",\"Technology\"]\n",
    "\n",
    "# Build query URL\n",
    "query_url = url + \"api-key=\" + api_key + \"&q=\" + query"
   ]
  }
 ],
 "metadata": {
  "kernelspec": {
   "display_name": "mlenv",
   "language": "python",
   "name": "python3"
  },
  "language_info": {
   "codemirror_mode": {
    "name": "ipython",
    "version": 3
   },
   "file_extension": ".py",
   "mimetype": "text/x-python",
   "name": "python",
   "nbconvert_exporter": "python",
   "pygments_lexer": "ipython3",
   "version": "3.10.14"
  }
 },
 "nbformat": 4,
 "nbformat_minor": 2
}
