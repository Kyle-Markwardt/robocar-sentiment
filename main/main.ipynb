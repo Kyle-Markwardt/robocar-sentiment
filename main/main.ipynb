{
 "cells": [
  {
   "cell_type": "markdown",
   "metadata": {},
   "source": [
    "# Goals\n",
    "1. Get NYT or Bloomberg articles on \"autonomous vehicles\" (alt: cars/vehicles driverless/autonomous)\n",
    "    a. How do I know if the sentiment rating is accurate?\n",
    "    b. Bonus - NYT AND Bloomberg\n",
    "2. Create model for sentiment analysis of articles (Strong or weak positive or negative) \n",
    "3. Using datetimes and sentiment rank, create time series model of artcle sentiment and stock price impact (mutliple companies - which are most/least impacted)\n",
    "4. Do this again for one specific company (named in articles and stock price (Waymo))\n",
    "5. Create sentiment model to use on twitter data for the same \n",
    "\n",
    "LSTM - kerris model nn for training twitter dataset"
   ]
  },
  {
   "cell_type": "markdown",
   "metadata": {},
   "source": []
  }
 ],
 "metadata": {
  "language_info": {
   "name": "python"
  }
 },
 "nbformat": 4,
 "nbformat_minor": 2
}
