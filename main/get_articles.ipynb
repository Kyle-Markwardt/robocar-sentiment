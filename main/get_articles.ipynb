{
 "cells": [
  {
   "cell_type": "markdown",
   "metadata": {},
   "source": [
    "# Goals\n",
    "1. Get NYT or Bloomberg articles on \"autonomous vehicles\" (alt: cars/vehicles driverless/autonomous)\n",
    "    a. How do I know if the sentiment rating is accurate?\n",
    "    b. Bonus - NYT AND Bloomberg\n",
    "2. Create model for sentiment analysis of articles (Strong or weak positive or negative) \n",
    "3. Using datetimes and sentiment rank, create time series model of artcle sentiment and stock price impact (mutliple companies - which are most/least impacted)\n",
    "4. Do this again for one specific company (named in articles and stock price (Waymo))\n",
    "5. Create sentiment model to use on twitter data for the same \n"
   ]
  },
  {
   "cell_type": "code",
   "execution_count": 1,
   "metadata": {},
   "outputs": [],
   "source": [
    "# Dependencies\n",
    "import requests\n",
    "from pprint import pprint\n",
    "from dotenv import load_dotenv\n",
    "import os\n",
    "import json\n"
   ]
  },
  {
   "cell_type": "code",
   "execution_count": 45,
   "metadata": {},
   "outputs": [],
   "source": [
    "load_dotenv(\"/Users/kmarkwardt/robocar-sentiment/main/.env\")\n",
    "NYT_API = os.getenv(\"NYT_API\")\n",
    "NEWSAPI = os.getenv(\"NEWSAPI\")\n"
   ]
  },
  {
   "cell_type": "code",
   "execution_count": 16,
   "metadata": {},
   "outputs": [],
   "source": [
    "url = \"https://api.nytimes.com/svc/search/v2/articlesearch.json?\"\n",
    "\n",
    "query_1 = \"Autonomous Vehicles\"\n",
    "query_2 = \"Driverless Vehciles\"\n",
    "news_desks = [\"Automobiles\",\"Business\",\"Cars\",\"Technology\"]\n",
    "\n",
    "# Build query URL\n",
    "query_url = f'{url}api-key={NYT_API}&q={query_1}'"
   ]
  },
  {
   "cell_type": "code",
   "execution_count": null,
   "metadata": {},
   "outputs": [],
   "source": [
    "articles = requests.get(query_url).json()"
   ]
  },
  {
   "cell_type": "code",
   "execution_count": 41,
   "metadata": {},
   "outputs": [
    {
     "name": "stdout",
     "output_type": "stream",
     "text": [
      "'Autonomous Vehicles Are Driving Blind'\n",
      "10\n"
     ]
    }
   ],
   "source": [
    "articles_list = articles['response']['docs']\n",
    "headlines = articles['response']['docs'][0]['headline']['main']\n",
    "#pprint(articles_list)\n",
    "pprint(headlines)\n",
    "num_articles = len(articles['response']['docs'])\n",
    "print(num_articles)"
   ]
  },
  {
   "cell_type": "code",
   "execution_count": 43,
   "metadata": {},
   "outputs": [
    {
     "name": "stdout",
     "output_type": "stream",
     "text": [
      "['Autonomous Vehicles Are Driving Blind',\n",
      " 'Autonomous Vehicles Take Another Big Leap',\n",
      " 'Mary Barra Says G.M. Is ‘on Track’ to Roll Out Autonomous Vehicles Next Year',\n",
      " 'Ford Will Build Electric Cars in Mexico, Shifting Its Plan',\n",
      " 'Wayve, an A.I. Start-Up for Autonomous Driving, Raises $1 Billion',\n",
      " 'STATE ELEVATES VEHICLE BUREAU; Agency Now at Autonomous Department -- Plans '\n",
      " 'Under Way for Modernization',\n",
      " 'How an Autonomous Car Gets Around',\n",
      " 'These High-Tech Sensors May Be the Key to Autonomous Cars',\n",
      " 'In an Autonomously Driven Future, Whither Automotive Reviews?',\n",
      " 'Waymo’s Autonomous Cars Cut Out Human Drivers in Road Tests']\n"
     ]
    }
   ],
   "source": [
    "headlines = []\n",
    "for i in range (0,num_articles):\n",
    "    title = articles['response']['docs'][i]['headline']['main']\n",
    "    headlines.append(title)\n",
    "\n",
    "pprint(headlines)"
   ]
  },
  {
   "cell_type": "code",
   "execution_count": 44,
   "metadata": {},
   "outputs": [
    {
     "name": "stdout",
     "output_type": "stream",
     "text": [
      "['When it comes to driverless cars, A.I. undergoes far less government '\n",
      " 'scrutiny than humans before commanding the wheel.',\n",
      " 'The Amazon-owned Zoox is unveiling an electric self-driving vehicle. But are '\n",
      " 'we ready for driverless cars?',\n",
      " 'The chief executive of General Motors said the company is “on track” to roll '\n",
      " 'out a ride-sharing service that would rely on autonomous vehicles in 2019.',\n",
      " 'The move will take advantage of lower costs and clear the way for a new '\n",
      " 'Michigan plant to make driverless vehicles instead, which Ford said would '\n",
      " 'mean even more jobs.',\n",
      " 'The London-based developer of artificial intelligence systems for '\n",
      " 'self-driving vehicles raised the funding from SoftBank, Nvidia, Microsoft '\n",
      " 'and others.',\n",
      " 'comment on Comr Hults role in promoting safety',\n",
      " 'Self-driving cars will rely on a number of sensors and other digital '\n",
      " 'devices.',\n",
      " 'What were once believed to be exotic technologies are now being considered '\n",
      " 'to fill in perceived safety gaps.',\n",
      " 'If autonomously operated passenger cars become widely adopted, the '\n",
      " 'ramifications would extend far beyond the highway.',\n",
      " 'The Alphabet unit says it expects to allow passengers to ride in truly '\n",
      " 'driverless cars in its tests within the next few months.']\n"
     ]
    }
   ],
   "source": [
    "snippets = []\n",
    "for i in range (0,num_articles):\n",
    "    text = articles['response']['docs'][i]['snippet']\n",
    "    snippets.append(text)\n",
    "\n",
    "pprint(snippets)"
   ]
  },
  {
   "cell_type": "markdown",
   "metadata": {},
   "source": [
    "## News API"
   ]
  },
  {
   "cell_type": "markdown",
   "metadata": {},
   "source": []
  }
 ],
 "metadata": {
  "kernelspec": {
   "display_name": "mlenv",
   "language": "python",
   "name": "python3"
  },
  "language_info": {
   "codemirror_mode": {
    "name": "ipython",
    "version": 3
   },
   "file_extension": ".py",
   "mimetype": "text/x-python",
   "name": "python",
   "nbconvert_exporter": "python",
   "pygments_lexer": "ipython3",
   "version": "3.10.14"
  }
 },
 "nbformat": 4,
 "nbformat_minor": 2
}
